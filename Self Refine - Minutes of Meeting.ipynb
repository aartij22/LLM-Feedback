{
 "cells": [
  {
   "cell_type": "code",
   "execution_count": 81,
   "id": "2c07bcc1-f770-4627-b88f-f5c57fab2eed",
   "metadata": {},
   "outputs": [],
   "source": [
    "# import required libraries\n",
    "from typing import List, Sequence\n",
    "from langchain_ollama import OllamaLLM\n",
    "from langgraph.graph import END, MessageGraph\n",
    "from langchain_core.messages import AIMessage, BaseMessage, HumanMessage\n",
    "from langchain_core.prompts import ChatPromptTemplate, MessagesPlaceholder"
   ]
  },
  {
   "cell_type": "code",
   "execution_count": 82,
   "id": "4496f29a-675d-4001-8f12-0bbef7830e08",
   "metadata": {},
   "outputs": [],
   "source": [
    "# initialise the LLM\n",
    "# to set up OLLAMA refer to https://python.langchain.com/docs/integrations/chat/ollama/\n",
    "llm = OllamaLLM(\n",
    "    model=\"llama3\",\n",
    "    temperature=0,\n",
    ")"
   ]
  },
  {
   "cell_type": "code",
   "execution_count": 83,
   "id": "79006aff-b277-4361-8925-755484ab080c",
   "metadata": {},
   "outputs": [],
   "source": [
    "def generation_node(state: Sequence[BaseMessage]):\n",
    "    res = generate.invoke({\"messages\": state})\n",
    "    return res\n",
    "\n",
    "def reflection_node(messages: Sequence[BaseMessage]) -> List[BaseMessage]:\n",
    "    # Other messages we need to adjust\n",
    "    cls_map = {\"ai\": HumanMessage, \"human\": AIMessage}\n",
    "    # First message is the original user request. We hold it the same for all nodes\n",
    "    translated = [messages[0]] + [\n",
    "        cls_map[msg.type](content=msg.content) for msg in messages[1:]\n",
    "    ]\n",
    "    res = reflect.invoke({\"messages\": translated})\n",
    "    # We treat the output of this as human feedback for the generator\n",
    "    return HumanMessage(content=res)"
   ]
  },
  {
   "cell_type": "code",
   "execution_count": 84,
   "id": "94b1703a-beb8-45d1-bda5-f2a18879d0c2",
   "metadata": {},
   "outputs": [],
   "source": [
    "# generation prompt for minutes of meetings\n",
    "\n",
    "generation_prompt = ChatPromptTemplate.from_messages(\n",
    "\t[\n",
    "\t\t(\n",
    "\t\t\t\"system\", \"\"\"You are excellent at creating minutes of meetings. You are provided with a meeting transcript.\n",
    "            Ensure the summary includes all essential information without adding any new details not present in the transcript. \n",
    "            Use the following template for formatting:\n",
    "\n",
    "            Title: Briefly title the meeting. Should be informative.\n",
    "            Agenda: Outline the main agenda of the meeting.\n",
    "            Points Discussed: List key points in bullet form, including any updates discussed. Names should be included if mentioning a task discussed or done by someone.\n",
    "            Future Items: Mention any future actions or items discussed, if applicable.\n",
    "            \t\t\t\n",
    "            If the user provides any feedback, respond with a revised minutes of meeting. \n",
    "            \n",
    "            Important:\n",
    "            **DO NOT behave like a chatbot.**\n",
    "            Always respond with minutes of meeting only.\"\"\",\n",
    "\t\t),\n",
    "\t\tMessagesPlaceholder(variable_name=\"messages\"),\n",
    "\t]\n",
    ") \n",
    "\n",
    "generate = generation_prompt|llm"
   ]
  },
  {
   "cell_type": "code",
   "execution_count": 85,
   "id": "03dd77ab-bf7d-44b3-a84a-6ba20401ace2",
   "metadata": {},
   "outputs": [],
   "source": [
    "# reflection/validation of the mom\n",
    "\n",
    "reflection_prompt = ChatPromptTemplate.from_messages(\n",
    "\t[\n",
    "\t\t(\n",
    "\t\t\t\"system\",\n",
    "            \"\"\"Review the provided meeting summary against the original transcript and provide **constructive feedback in bullet points on necessary improvements**, ensuring that:\n",
    "               * The summary adheres to the required **format, coherence, and absence of hallucinations**.\n",
    "               * It includes only the following four fields: **Title, Agenda, Points Discussed, and Future Items—no additional fields (e.g., \"Note:\")** or extra sentences.\n",
    "               * If any extra fields are present, point them out **without rephrasing or modifying the content**.\n",
    "               * The Title is **clear and informative**.\n",
    "               * **No new information** is introduced.\n",
    "               * Feedback is precise, identifying issues without rewriting or suggesting reworded summaries.\n",
    "               * DO NOT mention the same feedback once it has been resolved.\n",
    "               * If no changes are necessary, respond with: `No further changes required`.\"\"\",\n",
    "    ),\n",
    "\t  MessagesPlaceholder(variable_name=\"messages\"),\n",
    "\t]\n",
    ")\n",
    "\n",
    "reflect = reflection_prompt | llm"
   ]
  },
  {
   "cell_type": "code",
   "execution_count": 86,
   "id": "84d6740a-cf3a-4e4d-9bd8-26fbdac34444",
   "metadata": {},
   "outputs": [],
   "source": [
    "# stopping criteria to exit the infinite loop\n",
    "def should_continue(state: List[BaseMessage]):\n",
    "    last_feedback = state[-2].content\n",
    "    if (\"No further changes are necessary\" in last_feedback) or (len(state) > 6):\n",
    "        print(\"Stopping: Feedback indicates no further changes are needed.\")\n",
    "        return END\n",
    "    return \"reflect\""
   ]
  },
  {
   "cell_type": "code",
   "execution_count": 87,
   "id": "b45e12e1-8f1e-4e7b-a96e-7ed5802cb161",
   "metadata": {},
   "outputs": [],
   "source": [
    "# built the graph\n",
    "builder = MessageGraph()\n",
    "builder.add_node(\"generate\",generation_node)\n",
    "builder.add_node(\"reflect\",reflection_node)\n",
    "builder.set_entry_point(\"generate\")\n",
    "builder.add_conditional_edges(\"generate\",should_continue)\n",
    "builder.add_edge(\"reflect\",\"generate\")\n",
    "graph = builder.compile()"
   ]
  },
  {
   "cell_type": "code",
   "execution_count": 25,
   "id": "b47d74fa-9ee1-4936-b4b5-826a9ce4c30d",
   "metadata": {},
   "outputs": [
    {
     "data": {
      "image/png": "[encoded data removed]",
      "text/plain": [
       "<IPython.core.display.Image object>"
      ]
     },
     "execution_count": 25,
     "metadata": {},
     "output_type": "execute_result"
    }
   ],
   "source": [
    "# view the graph\n",
    "from IPython.display import Image\n",
    "\n",
    "Image(graph.get_graph().draw_mermaid_png())"
   ]
  },
  {
   "cell_type": "code",
   "execution_count": 89,
   "id": "ecbb980a-b354-4b7b-8045-59897eea3034",
   "metadata": {},
   "outputs": [
    {
     "name": "stdout",
     "output_type": "stream",
     "text": [
      "--- Generating Minutes of Meeting --- \n",
      "\n",
      "**Meeting Minutes**\n",
      "\n",
      "**Title:** Marketing and Sales Strategy Meeting for New Product\n",
      "\n",
      "**Agenda:**\n",
      "\n",
      "* Review marketing strategy for new product\n",
      "* Discuss sales projections for upcoming quarter\n",
      "* Review product development timeline\n",
      "\n",
      "**Points Discussed:**\n",
      "\n",
      "• Emily presented a marketing campaign targeting social media platforms and influencer partnerships, aiming to increase brand visibility by at least 20%.\n",
      "• Jack projected a 15% increase in sales for the next quarter, leveraging the marketing efforts.\n",
      "• Sarah reported that the product development is on track to meet its deadline, but emphasized the need to finalize the feature list by the end of March.\n",
      "• Michael reviewed the financials and noted that the budget for marketing and product development is within projections, but cautioned about expenses related to the sales team's travel and training.\n",
      "\n",
      "**Future Items:**\n",
      "\n",
      "* Schedule a follow-up meeting in two weeks to review progress\n",
      "\n",
      "Note: No other business was discussed during the meeting.\n",
      "\n",
      "\n",
      "--- Validating Minutes of Meeting --- \n",
      "\n",
      "Here are the constructive feedback points on necessary improvements:\n",
      "\n",
      "* **Extra field:** The summary includes an extra sentence \"No other business was discussed during the meeting.\" This should be removed as it is not part of the required four fields.\n",
      "* **Title clarity:** While the title is informative, it could be more specific. For example, \"New Product Launch Meeting: Marketing and Sales Strategy Review\" would provide a clearer understanding of the meeting's purpose.\n",
      "\n",
      "No further changes are necessary.\n",
      "\n",
      "\n",
      "Stopping: Feedback indicates no further changes are needed.\n",
      "--- Generating Minutes of Meeting --- \n",
      "\n",
      "**Meeting Minutes**\n",
      "\n",
      "**Title:** New Product Launch Meeting: Marketing and Sales Strategy Review\n",
      "\n",
      "**Agenda:**\n",
      "\n",
      "* Review marketing strategy for new product\n",
      "* Discuss sales projections for upcoming quarter\n",
      "* Review product development timeline\n",
      "\n",
      "**Points Discussed:**\n",
      "\n",
      "• Emily presented a marketing campaign targeting social media platforms and influencer partnerships, aiming to increase brand visibility by at least 20%.\n",
      "• Jack projected a 15% increase in sales for the next quarter, leveraging the marketing efforts.\n",
      "• Sarah reported that the product development is on track to meet its deadline, but emphasized the need to finalize the feature list by the end of March.\n",
      "• Michael reviewed the financials and noted that the budget for marketing and product development is within projections, but cautioned about expenses related to the sales team's travel and training.\n",
      "\n",
      "**Future Items:**\n",
      "\n",
      "* Schedule a follow-up meeting in two weeks to review progress\n",
      "\n",
      "\n"
     ]
    }
   ],
   "source": [
    "# run self refine iteration\n",
    "for event in graph.stream(\n",
    "\t[\n",
    "    \tHumanMessage(content=f\"Generate minutes of meeting for the given transcript: {transcript}\")\n",
    "\t],\n",
    "\t):\n",
    "    if 'generate' in event:\n",
    "        print('--- Generating Minutes of Meeting --- \\n')\n",
    "        print(event['generate'])\n",
    "    else:\n",
    "        print('--- Validating Minutes of Meeting --- \\n')\n",
    "        print(event['reflect'].content)\n",
    "    print(\"\\n\")"
   ]
  }
 ],
 "metadata": {
  "kernelspec": {
   "display_name": "Python 3 (ipykernel)",
   "language": "python",
   "name": "python3"
  },
  "language_info": {
   "codemirror_mode": {
    "name": "ipython",
    "version": 3
   },
   "file_extension": ".py",
   "mimetype": "text/x-python",
   "name": "python",
   "nbconvert_exporter": "python",
   "pygments_lexer": "ipython3",
   "version": "3.12.4"
  }
 },
 "nbformat": 4,
 "nbformat_minor": 5
}
